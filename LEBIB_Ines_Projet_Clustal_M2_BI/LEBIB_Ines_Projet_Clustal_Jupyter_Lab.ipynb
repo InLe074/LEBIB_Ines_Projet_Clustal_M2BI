{
 "cells": [
  {
   "cell_type": "code",
   "execution_count": 2,
   "id": "1157ffad-03ca-428c-9d0a-d4e399e705f8",
   "metadata": {
    "scrolled": true
   },
   "outputs": [
    {
     "ename": "ModuleNotFoundError",
     "evalue": "No module named 'dendrogram'",
     "output_type": "error",
     "traceback": [
      "\u001b[1;31m---------------------------------------------------------------------------\u001b[0m",
      "\u001b[1;31mModuleNotFoundError\u001b[0m                       Traceback (most recent call last)",
      "Cell \u001b[1;32mIn[2], line 4\u001b[0m\n\u001b[0;32m      2\u001b[0m \u001b[38;5;28;01mimport\u001b[39;00m \u001b[38;5;21;01mnumpy\u001b[39;00m \u001b[38;5;28;01mas\u001b[39;00m \u001b[38;5;21;01mnp\u001b[39;00m\n\u001b[0;32m      3\u001b[0m \u001b[38;5;28;01mimport\u001b[39;00m \u001b[38;5;21;01mmatplotlib\u001b[39;00m\u001b[38;5;21;01m.\u001b[39;00m\u001b[38;5;21;01mpyplot\u001b[39;00m \u001b[38;5;28;01mas\u001b[39;00m \u001b[38;5;21;01mplt\u001b[39;00m\n\u001b[1;32m----> 4\u001b[0m \u001b[38;5;28;01mimport\u001b[39;00m \u001b[38;5;21;01mdendrogram\u001b[39;00m\u001b[38;5;241m,\u001b[39m \u001b[38;5;21;01mlinkage\u001b[39;00m\n",
      "\u001b[1;31mModuleNotFoundError\u001b[0m: No module named 'dendrogram'"
     ]
    }
   ],
   "source": [
    "import time\n",
    "import numpy as np\n",
    "import matplotlib.pyplot as plt\n",
    "import dendrogram, linkage\n"
   ]
  },
  {
   "cell_type": "code",
   "execution_count": 2,
   "id": "46e5f661-e62c-4177-8f9c-8d5bbac7ad25",
   "metadata": {},
   "outputs": [],
   "source": [
    "tps1 = time.time()"
   ]
  },
  {
   "cell_type": "code",
   "execution_count": 3,
   "id": "613ed720-e0a8-4f78-9610-240fe69c7601",
   "metadata": {},
   "outputs": [
    {
     "data": {
      "text/plain": [
       "'\\nLa fonction lire_fasta() est une fonction qui prend en entrée un fichier texte\\ncontenant plusieurs fichiers au format FASTA et stocke\\nles séquences dans un dictionnaire\\n'"
      ]
     },
     "execution_count": 3,
     "metadata": {},
     "output_type": "execute_result"
    }
   ],
   "source": [
    "'''\n",
    "La fonction lire_fasta() est une fonction qui prend en entrée un fichier texte\n",
    "contenant plusieurs fichiers au format FASTA et stocke\n",
    "les séquences dans un dictionnaire\n",
    "'''"
   ]
  },
  {
   "cell_type": "code",
   "execution_count": 4,
   "id": "3c034010-06ed-481d-a0a7-31f6c467543e",
   "metadata": {},
   "outputs": [],
   "source": [
    "def lire_fasta (fichier_fasta):\n",
    "    '''\n",
    "    Va retourner un dictionnaire de fichiers au format fasta\n",
    "    \n",
    "        Parameters :\n",
    "            fichier_fasta : fichier texte\n",
    "        \n",
    "        Returns :\n",
    "            prot_dict : un dictionnaire de séquences protéiques au format fasta\n",
    "\n",
    "    '''\n",
    "    \n",
    "    compteur_seq = 0\n",
    "    prot_dict = {}\n",
    "    with open(fichier_fasta, \"r\") as fasta_file:\n",
    "        prot_id = \"\"\n",
    "        for line in fasta_file:\n",
    "            if line.startswith(\">\"):\n",
    "                compteur_seq = compteur_seq +1\n",
    "                prot_id = compteur_seq\n",
    "                prot_dict[prot_id] = \"\"\n",
    "            else:\n",
    "                prot_dict[prot_id] += line.strip()\n",
    "                \n",
    "    return prot_dict"
   ]
  },
  {
   "cell_type": "code",
   "execution_count": 11,
   "id": "54ddbb77-cf59-4727-b304-f97110dcb79d",
   "metadata": {},
   "outputs": [
    {
     "name": "stdout",
     "output_type": "stream",
     "text": [
      "Les séquences protéiques :  {1: 'MALWMRLLPLLALLALWAPAPTRAFVNQHLCGSHLVEALYLVCGERGFFYTPKARREVEDLQVRDVELAGAPGEGGLQPLALEGALQKRGIVEQCCTSICSLYQLENYCN', 2: 'MALWMRFLPLLALLVLWEPKPAQAFVKQHLCGPHLVEALYLVCGERGFFYTPKSRREVEDPQVPQLELGGGPEAGDLQTLALEVARQKRGIVDQCCTSICSLYQLENYCN', 3: 'MNLLCCCCCSNMAPNQRVTRKWELFAGRNKFYCDGLLMSAPHTGVFYLTCILITGTSALFFAFDCPFLADSINPAIPIVGAVLYFFTMSSLLRTTFTDPGVIPRASNDEAAYIEKQIEVNSLNSPTYRPPPRTKEVLVKGQTVKLKYCFTCKIFRPPRASHCSLCDNCVDRFDHHCPWGNCVGKRNYRFFYLFLVSLAFLAVFIFSCSVTHLVLLMKKEHEVFNVIKAAPFTVIVVFICFFSIWSVIGLAGFHTYLTTSDQTTNEDLKGSFSSKGGPRTQNPYSRGNICLNCCHILCGPMTPSLIDRRGIATDEFIQQMQHQSSPRHALSDVLSASHMVTTSQPMMGGLGGGGIGGAGGGISIGGAELKPRFYDESNPSSSTLEGNGGAINGHGNGHGNGFDHPPPSYDLVQNGNSNSLAQLVDNEIPLVQMDIPAYTHQTATQARQYRHRHHKQRQICNGGTVSYENQLANASSEDELDDPDVVVVGSPEVVAAVAAIASNKAREMRNRSGSYSNLFDADFEAALVNSSLADNHVRGEGASSSGKPSAGAALLAAAISGKTENMYSNVLPVDNDTDPADSTLHVYSNIIDERKQQEQANNVLSSTLLCDDLDLDDPVSASCHVKRKSLGDGAEQVKSAERLRMLHDNTMIDTALDLDSLDGSSMGNNSQSCLVKSGKPNATSVTTNVAIV', 4: 'MLPGLALLLLAAWTARALEVPTDGNAGLLAEPQIAMFCGRLNMHMNVQNGKWDSDPSGTKTCIDTKEGILQYCQEVYPELQITNVVEANQPVTIQNWCKRGRKQCKTHPHFVIPYRCLVGEFVSDALLVPDKCKFLHQERMDVCETHLHWHTVAKETCSEKSTNLHDYGMLLPCGIDKFGVEFVCCPLAEESDNVDSADAEEDDSDVWWGGADTDYADGSEDKVVEVAEEEEVAEVEEEEADDDEDDEDGDEVEEEAEEPYEEATERTTSIATTTTTTTESVEEVVREVCSEQAETGPCRAMISRWYFDVTEGKCAPFFYGGCGGNRNNFDTEEYCMAVCGSVMSQSLRKTTREPLTRDPVKLPTTAASTPDAVDKYLETPGDENEHAHFQKAKERLEAKHRERMSQVMREWEEAERQAKNLPKADKKAVIQHFQEKVESLEQEAANERQQLVETHMARVEAMLNDRRRLALENYITALQAVPPRPRHVFNMLKKYVRAEQKDRQHTLKHFEHVRMVDPKKAAQIRSQVMTHLRVIYERMNQSLSLLYNVPAVAEEIQDEVDELLQKEQNYSDDVLANMISEPRISYGNDALMPSLTETKTTVELLPVNGEFSLDDLQPWHSFGADSVPANTENEVEPVDARPAADRGLTTRPGSGLTNIKTEEISEVKMDAEFRHDSGYEVHHQKLVFFAEDVGSNKGAIIGLMVGGVVIATVIVITLVMLKKKQYTSIHHGVVEVDAAVTPEERHLSKMQQNGYENPTYKFFEQMQN', 5: 'MSPFLYLVLLVLGLHATIHCASPEGKVTACHSSQPNATLYKMSSINADFAFNLYRRFTVETPDKNIFFSPVSISAALVMLSFGACCSTQTEIVETLGFNLTDTPMVEIQHGFQHLICSLNFPKKELELQIGNALFIGKHLKPLAKFLNDVKTLYETEVFSTDFSNISAAKQEINSHVEMQTKGKVVGLIQDLKPNTIMVLVNYIHFKAQWANPFDPSKTEDSSSFLIDKTTTVQVPMMHQMEQYYHLVDMELNCTVLQMDYSKNALALFVLPKEGQMESVEAAMSSKTLKKWNRLLQKGWVDLFVPKFSISATYDLGATLLKMGIQHAYSENADFSGLTEDNGLKLSNAAHKAVLHIGEKGTEAAAVPEVELSDQPENTFLHPIIQIDRSFMLLILERSTRSILFLGKVVNPTEA', 6: 'MKWVTFLLLLFISGSAFSRGVFRREAHKSEIAHRFKDLGEQHFKGLVLIAFSQYLQKCPYEEHIKLVQEVTDFAKTCVADENAENCDKSIHTLFGDKLCAIPKLRDNYGELADCCAKQEPERNECFLQHKDDNPNLPPFQRPEAEAMCTSFQENPTSFLGHYLHEVARRHPYFYAPELLYYAEKYNEVLTQCCTESDKAACLTPKLDAVKEKALVAAVRQRMKCSSMQRFGERAFKAWAVARMSQRFPNAEFAEITKLATDVTKINKECCHGDLLECADDRAELAKYMCENQATISSKLQACCDKPVLQKSQCLAEIEHDNIPADLPSIAADFVEDKEVCKNYAEAKDVFLGTFLYEYSRRHPDYSVSLLLRLAKKYEATLEKCCAEGDPPACYGTVLAEFQPLVEEPKNLVKTNCELYEKLGEYGFQNAVLVRYTQKAPQVSTPTLVEAARNLGRVGTKCCTLPEAQRLPCVEDYLSAILNRLCVLHEKTPVSEKVTKCCSGSLVERRPCFSALTVDETYVPKEFKAETFTFHSDICTLPDKEKQIKKQTALAELVKHKPKATEDQLKTVMGDFAQFVDKCCKAADKDNCFATEGPNLVARSKEALA', 7: 'MDGLQASAGPLRRGRPKRRRKPQPHSGSVLALPLRSRKIRKQLRSVVSRMAALRTQTLPSENSEESRVESTADDLGDALPGGAAVAAVPDAARREPYGHLGPAELLEASPAARSLQTPSARLVPASAPPARLVEVPAAPVRVVETSALLCTAQHLAAVQSSGAPATASGPQVDNTGGEPAWDSPLRRVLAELNRIPSSRRRAARLFEWLIAPMPPDHFYRRLWEREAVLVRRQDHTYYQGLFSTADLDSMLRNEEVQFGQHLDAARYINGRRETLNPPGRALPAAAWSLYQAGCSLRLLCPQAFSTTVWQFLAVLQEQFGSMAGSNVYLTPPNSQGFAPHYDDIEAFVLQLEGRKLWRVYRPRVPTEELALTSSPNFSQDDLGEPVLQTVLEPGDLLYFPRGFIHQAECQDGVHSLHLTLSTYQRNTWGDFLEAILPLAVQAAMEENVEFRRGLPRDFMDYMGAQHSDSKDPRRTAFMEKVRVLVARLGHFAPVDAVADQRAKDFIHDSLPPVLTDRERALSVYGLPIRWEAGEPVNVGAQLTTETEVHMLQDGIARLVGEGGHLFLYYTVENSRVYHLEEPKCLEIYPQQADAMELLLGSYPEFVRVGDLPCDSVEDQLSLATTLYDKGLLLTKMPLALN', 8: 'MAESHLQSSLITASQFFEIWLHFDADGSGYLEGKELQNLIQELQQARKKAGLELSPEMKTFVDQYGQRDDGKIGIVELAHVLPTEENFLLLFRCQQLKSCEEFMKTWRKYDTDHSGFIETEELKNFLKDLLEKANKTVDDTKLAEYTDLMLKLFDSNNDGKLELTEMARLLPVQENFLLKFQGIKMCGKEFNKAFELYDQDGNGYIDENELDALLKDLCEKNKQDLDINNITTYKKNIMALSDGGKLYRTDLALILCAGDN', 9: 'MSSQIRQNYSTDVEAAVNSLVNLYLQASYTYLSLGFYFDRDDVALEGVSHFFRELAEEKREGYERLLKMQNQRGGRALFQDIKKPAEDEWGKTPDAMKAAMALEKKLNQALLDLHALGSARTDPHLCDFLETHFLDEEVKLIKKMGDHLTNLHRLGGPEAGLGEYLFERLTLKHD', 10: 'MGGLTASDVHPTLGVQLFSAGIAACLADVITFPLDTAKVRLQVQGECPTSSVIRYKGVLGTITAVVKTEGRMKLYSGLPAGLQRQISSASLRIGLYDTVQEFLTAGKETAPSLGSKILAGLTTGGVAVFIGQPTEVVKVRLQAQSHLHGIKPRYTGTYNAYRIIATTEGLTGLWKGTTPNLMRSVIINCTELVTYDLMKEAFVKNNILADDVPCHLVSALIAGFCATAMSSPVDVVKTRFINSPPGQYKSVPNCAMKVFTNEGPTAFFKGLVPSFLRLGSWNVIMFVCFEQLKRELSKSRQTMDCAT'} \n",
      "\n"
     ]
    }
   ],
   "source": [
    "fasta = lire_fasta('c:/Users/Bismilah/Desktop/M1-IPFB/M2_BI/BQ4CY010/LEBIB_Ines_Projet_Clustal_M2_BI/Fichier_fasta_2.txt')\n",
    "print(\"Les séquences protéiques : \" , fasta, \"\\n\")"
   ]
  },
  {
   "cell_type": "code",
   "execution_count": 5,
   "id": "1630f266-0ab2-4194-b0ad-2257f29ee970",
   "metadata": {},
   "outputs": [
    {
     "data": {
      "text/plain": [
       "'\\nLa fonction lire_blosum62 est une fonction qui permet de lire en entrée\\nun fichier texte contenant la matrice BLOSUM62 et va\\nstocker les données de la matrice sous forme de dictionnaire\\n'"
      ]
     },
     "execution_count": 5,
     "metadata": {},
     "output_type": "execute_result"
    }
   ],
   "source": [
    "'''\n",
    "La fonction lire_blosum62 est une fonction qui permet de lire en entrée\n",
    "un fichier texte contenant la matrice BLOSUM62 et va\n",
    "stocker les données de la matrice sous forme de dictionnaire\n",
    "'''"
   ]
  },
  {
   "cell_type": "code",
   "execution_count": 6,
   "id": "481969ee-55c0-47ea-b832-12be961c2d29",
   "metadata": {},
   "outputs": [],
   "source": [
    "def lire_blosum62(fichier_blosum):\n",
    "    \n",
    "    '''\n",
    "    Va retourner la matrice BLOSUM62 en dictionnaire\n",
    "    \n",
    "        Parameters :\n",
    "            Fichier texte de la matrice BLOSUM\n",
    "\n",
    "        \n",
    "        Returns :\n",
    "            Dictionnaire de la matrice BLOSUM qui contient tous les scores par pair\n",
    "\n",
    "    '''\n",
    "    \n",
    "    with open(fichier_blosum, 'r') as f:\n",
    "        lignes = f.readlines()\n",
    "\n",
    "    new_lines = []\n",
    "    for line in lignes :\n",
    "        new_lines.append(line)\n",
    "    lignes = new_lines\n",
    "\n",
    "    # Récupère les acides aminés de la première ligne\n",
    "    # en les splitant pour avoir une liste de string\n",
    "    acides_amines = lignes[0].split()\n",
    "\n",
    "    # Crée le dictionnaire BLOSUM62\n",
    "    blosum62 = {}\n",
    "    for ligne in lignes[1:]:\n",
    "        valeurs = ligne.split()\n",
    "        aa = valeurs[0]\n",
    "        # Dans le dictionnaire blosum62, la clé contient l'acide aminé aa\n",
    "        blosum62[aa] = {}\n",
    "        # on itère sur chaque valeur et on ajoute la valeur correspondante\n",
    "        # des acides aminés aa et acides_amines[i] dans le dictionnaire\n",
    "        for i, valeur in enumerate(valeurs[1:]):\n",
    "            blosum62[aa][acides_amines[i]] = int(valeur)\n",
    "\n",
    "    return blosum62"
   ]
  },
  {
   "cell_type": "code",
   "execution_count": 12,
   "id": "aaa88adc-f77e-4afa-bf8b-b4b1913e1ab6",
   "metadata": {},
   "outputs": [
    {
     "name": "stdout",
     "output_type": "stream",
     "text": [
      "Le dictionnaire de la matrice BLOSUM62 :  {'A': {'A': 4, 'R': -1, 'N': -2, 'D': -2, 'C': 0, 'Q': -1, 'E': -1, 'G': 0, 'H': -2, 'I': -1, 'L': -1, 'K': -1, 'M': -1, 'F': -2, 'P': -1, 'S': 1, 'T': 0, 'W': -3, 'Y': -2, 'V': 0, 'B': -2, 'J': -1, 'Z': -1, 'X': -1, '*': -4}, 'R': {'A': -1, 'R': 5, 'N': 0, 'D': -2, 'C': -3, 'Q': 1, 'E': 0, 'G': -2, 'H': 0, 'I': -3, 'L': -2, 'K': 2, 'M': -1, 'F': -3, 'P': -2, 'S': -1, 'T': -1, 'W': -3, 'Y': -2, 'V': -3, 'B': -1, 'J': -2, 'Z': 0, 'X': -1, '*': -4}, 'N': {'A': -2, 'R': 0, 'N': 6, 'D': 1, 'C': -3, 'Q': 0, 'E': 0, 'G': 0, 'H': 1, 'I': -3, 'L': -3, 'K': 0, 'M': -2, 'F': -3, 'P': -2, 'S': 1, 'T': 0, 'W': -4, 'Y': -2, 'V': -3, 'B': 4, 'J': -3, 'Z': 0, 'X': -1, '*': -4}, 'D': {'A': -2, 'R': -2, 'N': 1, 'D': 6, 'C': -3, 'Q': 0, 'E': 2, 'G': -1, 'H': -1, 'I': -3, 'L': -4, 'K': -1, 'M': -3, 'F': -3, 'P': -1, 'S': 0, 'T': -1, 'W': -4, 'Y': -3, 'V': -3, 'B': 4, 'J': -3, 'Z': 1, 'X': -1, '*': -4}, 'C': {'A': 0, 'R': -3, 'N': -3, 'D': -3, 'C': 9, 'Q': -3, 'E': -4, 'G': -3, 'H': -3, 'I': -1, 'L': -1, 'K': -3, 'M': -1, 'F': -2, 'P': -3, 'S': -1, 'T': -1, 'W': -2, 'Y': -2, 'V': -1, 'B': -3, 'J': -1, 'Z': -3, 'X': -1, '*': -4}, 'Q': {'A': -1, 'R': 1, 'N': 0, 'D': 0, 'C': -3, 'Q': 5, 'E': 2, 'G': -2, 'H': 0, 'I': -3, 'L': -2, 'K': 1, 'M': 0, 'F': -3, 'P': -1, 'S': 0, 'T': -1, 'W': -2, 'Y': -1, 'V': -2, 'B': 0, 'J': -2, 'Z': 4, 'X': -1, '*': -4}, 'E': {'A': -1, 'R': 0, 'N': 0, 'D': 2, 'C': -4, 'Q': 2, 'E': 5, 'G': -2, 'H': 0, 'I': -3, 'L': -3, 'K': 1, 'M': -2, 'F': -3, 'P': -1, 'S': 0, 'T': -1, 'W': -3, 'Y': -2, 'V': -2, 'B': 1, 'J': -3, 'Z': 4, 'X': -1, '*': -4}, 'G': {'A': 0, 'R': -2, 'N': 0, 'D': -1, 'C': -3, 'Q': -2, 'E': -2, 'G': 6, 'H': -2, 'I': -4, 'L': -4, 'K': -2, 'M': -3, 'F': -3, 'P': -2, 'S': 0, 'T': -2, 'W': -2, 'Y': -3, 'V': -3, 'B': -1, 'J': -4, 'Z': -2, 'X': -1, '*': -4}, 'H': {'A': -2, 'R': 0, 'N': 1, 'D': -1, 'C': -3, 'Q': 0, 'E': 0, 'G': -2, 'H': 8, 'I': -3, 'L': -3, 'K': -1, 'M': -2, 'F': -1, 'P': -2, 'S': -1, 'T': -2, 'W': -2, 'Y': 2, 'V': -3, 'B': 0, 'J': -3, 'Z': 0, 'X': -1, '*': -4}, 'I': {'A': -1, 'R': -3, 'N': -3, 'D': -3, 'C': -1, 'Q': -3, 'E': -3, 'G': -4, 'H': -3, 'I': 4, 'L': 2, 'K': -3, 'M': 1, 'F': 0, 'P': -3, 'S': -2, 'T': -1, 'W': -3, 'Y': -1, 'V': 3, 'B': -3, 'J': 3, 'Z': -3, 'X': -1, '*': -4}, 'L': {'A': -1, 'R': -2, 'N': -3, 'D': -4, 'C': -1, 'Q': -2, 'E': -3, 'G': -4, 'H': -3, 'I': 2, 'L': 4, 'K': -2, 'M': 2, 'F': 0, 'P': -3, 'S': -2, 'T': -1, 'W': -2, 'Y': -1, 'V': 1, 'B': -4, 'J': 3, 'Z': -3, 'X': -1, '*': -4}, 'K': {'A': -1, 'R': 2, 'N': 0, 'D': -1, 'C': -3, 'Q': 1, 'E': 1, 'G': -2, 'H': -1, 'I': -3, 'L': -2, 'K': 5, 'M': -1, 'F': -3, 'P': -1, 'S': 0, 'T': -1, 'W': -3, 'Y': -2, 'V': -2, 'B': 0, 'J': -3, 'Z': 1, 'X': -1, '*': -4}, 'M': {'A': -1, 'R': -1, 'N': -2, 'D': -3, 'C': -1, 'Q': 0, 'E': -2, 'G': -3, 'H': -2, 'I': 1, 'L': 2, 'K': -1, 'M': 5, 'F': 0, 'P': -2, 'S': -1, 'T': -1, 'W': -1, 'Y': -1, 'V': 1, 'B': -3, 'J': 2, 'Z': -1, 'X': -1, '*': -4}, 'F': {'A': -2, 'R': -3, 'N': -3, 'D': -3, 'C': -2, 'Q': -3, 'E': -3, 'G': -3, 'H': -1, 'I': 0, 'L': 0, 'K': -3, 'M': 0, 'F': 6, 'P': -4, 'S': -2, 'T': -2, 'W': 1, 'Y': 3, 'V': -1, 'B': -3, 'J': 0, 'Z': -3, 'X': -1, '*': -4}, 'P': {'A': -1, 'R': -2, 'N': -2, 'D': -1, 'C': -3, 'Q': -1, 'E': -1, 'G': -2, 'H': -2, 'I': -3, 'L': -3, 'K': -1, 'M': -2, 'F': -4, 'P': 7, 'S': -1, 'T': -1, 'W': -4, 'Y': -3, 'V': -2, 'B': -2, 'J': -3, 'Z': -1, 'X': -1, '*': -4}, 'S': {'A': 1, 'R': -1, 'N': 1, 'D': 0, 'C': -1, 'Q': 0, 'E': 0, 'G': 0, 'H': -1, 'I': -2, 'L': -2, 'K': 0, 'M': -1, 'F': -2, 'P': -1, 'S': 4, 'T': 1, 'W': -3, 'Y': -2, 'V': -2, 'B': 0, 'J': -2, 'Z': 0, 'X': -1, '*': -4}, 'T': {'A': 0, 'R': -1, 'N': 0, 'D': -1, 'C': -1, 'Q': -1, 'E': -1, 'G': -2, 'H': -2, 'I': -1, 'L': -1, 'K': -1, 'M': -1, 'F': -2, 'P': -1, 'S': 1, 'T': 5, 'W': -2, 'Y': -2, 'V': 0, 'B': -1, 'J': -1, 'Z': -1, 'X': -1, '*': -4}, 'W': {'A': -3, 'R': -3, 'N': -4, 'D': -4, 'C': -2, 'Q': -2, 'E': -3, 'G': -2, 'H': -2, 'I': -3, 'L': -2, 'K': -3, 'M': -1, 'F': 1, 'P': -4, 'S': -3, 'T': -2, 'W': 11, 'Y': 2, 'V': -3, 'B': -4, 'J': -2, 'Z': -2, 'X': -1, '*': -4}, 'Y': {'A': -2, 'R': -2, 'N': -2, 'D': -3, 'C': -2, 'Q': -1, 'E': -2, 'G': -3, 'H': 2, 'I': -1, 'L': -1, 'K': -2, 'M': -1, 'F': 3, 'P': -3, 'S': -2, 'T': -2, 'W': 2, 'Y': 7, 'V': -1, 'B': -3, 'J': -1, 'Z': -2, 'X': -1, '*': -4}, 'V': {'A': 0, 'R': -3, 'N': -3, 'D': -3, 'C': -1, 'Q': -2, 'E': -2, 'G': -3, 'H': -3, 'I': 3, 'L': 1, 'K': -2, 'M': 1, 'F': -1, 'P': -2, 'S': -2, 'T': 0, 'W': -3, 'Y': -1, 'V': 4, 'B': -3, 'J': 2, 'Z': -2, 'X': -1, '*': -4}, 'B': {'A': -2, 'R': -1, 'N': 4, 'D': 4, 'C': -3, 'Q': 0, 'E': 1, 'G': -1, 'H': 0, 'I': -3, 'L': -4, 'K': 0, 'M': -3, 'F': -3, 'P': -2, 'S': 0, 'T': -1, 'W': -4, 'Y': -3, 'V': -3, 'B': 4, 'J': -3, 'Z': 0, 'X': -1, '*': -4}, 'J': {'A': -1, 'R': -2, 'N': -3, 'D': -3, 'C': -1, 'Q': -2, 'E': -3, 'G': -4, 'H': -3, 'I': 3, 'L': 3, 'K': -3, 'M': 2, 'F': 0, 'P': -3, 'S': -2, 'T': -1, 'W': -2, 'Y': -1, 'V': 2, 'B': -3, 'J': 3, 'Z': -3, 'X': -1, '*': -4}, 'Z': {'A': -1, 'R': 0, 'N': 0, 'D': 1, 'C': -3, 'Q': 4, 'E': 4, 'G': -2, 'H': 0, 'I': -3, 'L': -3, 'K': 1, 'M': -1, 'F': -3, 'P': -1, 'S': 0, 'T': -1, 'W': -2, 'Y': -2, 'V': -2, 'B': 0, 'J': -3, 'Z': 4, 'X': -1, '*': -4}, 'X': {'A': -1, 'R': -1, 'N': -1, 'D': -1, 'C': -1, 'Q': -1, 'E': -1, 'G': -1, 'H': -1, 'I': -1, 'L': -1, 'K': -1, 'M': -1, 'F': -1, 'P': -1, 'S': -1, 'T': -1, 'W': -1, 'Y': -1, 'V': -1, 'B': -1, 'J': -1, 'Z': -1, 'X': -1, '*': -4}, '*': {'A': -4, 'R': -4, 'N': -4, 'D': -4, 'C': -4, 'Q': -4, 'E': -4, 'G': -4, 'H': -4, 'I': -4, 'L': -4, 'K': -4, 'M': -4, 'F': -4, 'P': -4, 'S': -4, 'T': -4, 'W': -4, 'Y': -4, 'V': -4, 'B': -4, 'J': -4, 'Z': -4, 'X': -4, '*': 1}} \n",
      "\n"
     ]
    }
   ],
   "source": [
    "blosum62 = lire_blosum62('c:/Users/Bismilah/Desktop/M1-IPFB/M2_BI/BQ4CY010/LEBIB_Ines_Projet_Clustal_M2_BI/Blosum62.txt')\n",
    "print(\"Le dictionnaire de la matrice BLOSUM62 : \", blosum62,  \"\\n\")"
   ]
  },
  {
   "cell_type": "code",
   "execution_count": 14,
   "id": "dd0bceca-7fef-4275-8c02-b2d49b74341b",
   "metadata": {},
   "outputs": [
    {
     "name": "stdout",
     "output_type": "stream",
     "text": [
      "La valeur du gap ici vaut :  -5 \n",
      "\n"
     ]
    }
   ],
   "source": [
    "gap = -5\n",
    "print(\"La valeur du gap ici vaut : \", gap , \"\\n\")"
   ]
  },
  {
   "cell_type": "code",
   "execution_count": 7,
   "id": "ea3d20a5-efe3-4b92-ba68-1394268059dd",
   "metadata": {},
   "outputs": [
    {
     "data": {
      "text/plain": [
       "\"\\nLa fonction score_needleman_wunsch() est une fonction qui permet de calculer le score d'alignement optimal entre deux séquences\\nCette fonction se base sur l'algorithme de Needleman-Wunsch. \\nElle prend en entrée deux séquences (pour les alignées),une matrice BLOSUM (ici 62) et une pénalité de gap\\n\""
      ]
     },
     "execution_count": 7,
     "metadata": {},
     "output_type": "execute_result"
    }
   ],
   "source": [
    "'''\n",
    "La fonction score_needleman_wunsch() est une fonction qui permet de calculer le score d'alignement optimal entre deux séquences\n",
    "Cette fonction se base sur l'algorithme de Needleman-Wunsch. \n",
    "Elle prend en entrée deux séquences (pour les alignées),une matrice BLOSUM (ici 62) et une pénalité de gap\n",
    "'''"
   ]
  },
  {
   "cell_type": "code",
   "execution_count": 8,
   "id": "263583e1-96f0-4ff7-b1e8-23712db925fa",
   "metadata": {},
   "outputs": [],
   "source": [
    "def score_needleman_wunsch(seq1, seq2, blosum62, gap):\n",
    "\n",
    "    '''\n",
    "    Va permettre de retourner un score d'alignement optimal entre deux séquences\n",
    "    \n",
    "        Parameters :\n",
    "            seq 1, seq 2 = string de nos séquences\n",
    "            blosum62 : un dictionnaire de notre matrice BLOSUM62\n",
    "            gap = un entier, ici il vaut -5\n",
    "        \n",
    "        Returns :\n",
    "            Un score de l'alignement en int\n",
    "\n",
    "    '''\n",
    "    \n",
    "    # Initialisation des variables m, n et scores\n",
    "    m, n = len(seq1), len(seq2)\n",
    "    score = []\n",
    "    score = [[0] * (n + 1) for i in range(m + 1)]\n",
    "\n",
    "    # Initialisation de la première ligne et première colonne\n",
    "    # de la matrice des scores avec les pénalités de gap \n",
    "    for i in range(m + 1):\n",
    "        score[i][0] = gap * i\n",
    "    for j in range(n + 1):\n",
    "        score[0][j] = gap * j\n",
    "        \n",
    "        \n",
    "    '''\n",
    "    On calcule le score pour toutes les positions i et j\n",
    "    (en excluant la première ligne et la première colonne)\n",
    "    On calcule pour chaque position (i,j) le score que l'on peut\n",
    "    avoir suivant les cases précédentes et on prend\n",
    "    le score maximal des trois scores possibles\n",
    "    '''\n",
    "    \n",
    "    for i in range(1, m + 1):\n",
    "        for j in range(1, n + 1):\n",
    "            score_match = score[i - 1][j - 1] + blosum62[seq1[i - 1]][seq2[j - 1]]\n",
    "            score_suppr = score[i - 1][j] + gap\n",
    "            score_inser = score[i][j - 1] + gap\n",
    "            score[i][j] = max(score_match, score_suppr, score_inser)\n",
    "    # On retourne la dernière valeur de la matrice (dernière case en bas à droite)\n",
    "    return score[m][n]"
   ]
  },
  {
   "cell_type": "code",
   "execution_count": 16,
   "id": "ad950703-28fb-49e3-bee4-4fbb728ead63",
   "metadata": {},
   "outputs": [
    {
     "name": "stdout",
     "output_type": "stream",
     "text": [
      "Score d'alignement entre les séquences : 466 \n",
      "\n"
     ]
    }
   ],
   "source": [
    "score = score_needleman_wunsch(fasta[1], fasta[2], blosum62, gap)\n",
    "print(\"Score d'alignement entre les séquences :\", score , \"\\n\")"
   ]
  },
  {
   "cell_type": "code",
   "execution_count": 9,
   "id": "de2f7f80-08d7-4a26-baed-61ede91b29be",
   "metadata": {},
   "outputs": [
    {
     "data": {
      "text/plain": [
       "'\\nLa fonction matrice_score() est une fonction qui permet de calculer la matrice des score entre toutes les séquences\\ncontenues dans le fichier FASTA\\n'"
      ]
     },
     "execution_count": 9,
     "metadata": {},
     "output_type": "execute_result"
    }
   ],
   "source": [
    "'''\n",
    "La fonction matrice_score() est une fonction qui permet de calculer la matrice des score entre toutes les séquences\n",
    "contenues dans le fichier FASTA\n",
    "'''"
   ]
  },
  {
   "cell_type": "code",
   "execution_count": 10,
   "id": "1d4b92d2-ddee-4b27-ab45-749f7eb7e582",
   "metadata": {},
   "outputs": [],
   "source": [
    "def matrice_score(fichier_fasta) :\n",
    "\n",
    "    '''\n",
    "    Va afficher la matrice de score pour chaque paire de séquences\n",
    "    \n",
    "        Parameters :\n",
    "            fichier_fasta = dictionnaire des fichiers fasta\n",
    "            blosum62 = dictionnaire de la matrice BLOSUM62\n",
    "            gap = valeur de pénalité, un entier, ici il vaut -5                       \n",
    "\n",
    "        \n",
    "        Returns :\n",
    "            score = un tableau de scores de séquences deux à deux\n",
    "\n",
    "\n",
    "    '''\n",
    "    \n",
    "    n = len(fichier_fasta)\n",
    "    #On initialise la matrice carré des scores à 0\n",
    "    score = np.zeros((n,n))\n",
    "    \n",
    "    # On itère pour chaque sur toutes les paires de séquences fasta\n",
    "    # en faisant bien attention de ne pas itérer deux fois\n",
    "    #le même paire (grâce à 'for j in range(i+1, n)')\n",
    "    for i in range(n) :\n",
    "        for j in range(i+1, n) :\n",
    "            # On appelle la fonction score_needleman_wunsch afin\n",
    "            # de calculer le score d'alignement de chaque paire\n",
    "            score[i][j] = score_needleman_wunsch(fichier_fasta[i+1], fichier_fasta[j+1], blosum62, gap)\n",
    "            # On écrit la matrice de score de maniere symétrique\n",
    "            score[j][i] = score[i][j]\n",
    "            \n",
    "    return score"
   ]
  },
  {
   "cell_type": "code",
   "execution_count": 17,
   "id": "97e2f417-a95f-4aa5-b3a4-3cb40a22e25a",
   "metadata": {},
   "outputs": [
    {
     "name": "stdout",
     "output_type": "stream",
     "text": [
      "La matrice des scores est : \n",
      " [[    0.   466. -2449. -2829. -1184. -2036. -2207.  -474.  -163.  -687.]\n",
      " [  466.     0. -2444. -2825. -1179. -2035. -2201.  -475.  -161.  -695.]\n",
      " [-2449. -2444.     0.  -233.  -680.  -138.  -153. -1498. -1997. -1245.]\n",
      " [-2829. -2825.  -233.     0. -1001.  -279.  -283. -1797. -2342. -1543.]\n",
      " [-1184. -1179.  -680. -1001.     0.  -397.  -542.  -356.  -750.  -196.]\n",
      " [-2036. -2035.  -138.  -279.  -397.     0.   -75. -1074. -1602.  -885.]\n",
      " [-2207. -2201.  -153.  -283.  -542.   -75.     0. -1267. -1751.  -990.]\n",
      " [ -474.  -475. -1498. -1797.  -356. -1074. -1267.     0.  -158.  -108.]\n",
      " [ -163.  -161. -1997. -2342.  -750. -1602. -1751.  -158.     0.  -326.]\n",
      " [ -687.  -695. -1245. -1543.  -196.  -885.  -990.  -108.  -326.     0.]] \n",
      "\n"
     ]
    }
   ],
   "source": [
    "matrice_des_scores = matrice_score(fasta)\n",
    "print(\"La matrice des scores est : \\n\", matrice_des_scores, \"\\n\")"
   ]
  },
  {
   "cell_type": "code",
   "execution_count": 18,
   "id": "d30538a4-37a3-4aae-bfa5-fcb0c3ad63d7",
   "metadata": {},
   "outputs": [
    {
     "data": {
      "text/plain": [
       "'\\nLa fonction matrice_distance() permet de convertir la matrice de score en matrice de distance. Le but est de ne pas \\navoir de valeurs négatives dans la matrice\\n\\nAuparavant, les scores les plus élevées signifiaient deux séquences proches.\\n\\nAvec la matrice des distances, une distance petite, signifie des séquences proches.\\n'"
      ]
     },
     "execution_count": 18,
     "metadata": {},
     "output_type": "execute_result"
    }
   ],
   "source": [
    "'''\n",
    "La fonction matrice_distance() permet de convertir la matrice de score en matrice de distance. Le but est de ne pas \n",
    "avoir de valeurs négatives dans la matrice\n",
    "\n",
    "Auparavant, les scores les plus élevées signifiaient deux séquences proches.\n",
    "\n",
    "Avec la matrice des distances, une distance petite, signifie des séquences proches.\n",
    "'''"
   ]
  },
  {
   "cell_type": "code",
   "execution_count": 19,
   "id": "d0fa9492-d3b1-454b-bf2f-a13ee3958cb9",
   "metadata": {},
   "outputs": [],
   "source": [
    "def matrice_distance(matrice_score) :\n",
    "\n",
    "    '''\n",
    "    Va convertir une matrice de score en matrice de distance\n",
    "    \n",
    "        Parameters :\n",
    "            matrice_score = tableau de scores de séquences deux à deux\n",
    "        \n",
    "        Returns :\n",
    "            matrice_dist = tableau de distances de séquences deux à deux\n",
    "\n",
    "    '''\n",
    "    \n",
    "    n = len(matrice_score)\n",
    "    #On initialise la matrice carré des scores à 0\n",
    "    matrice_dist = np.zeros((n,n))\n",
    "    dist_max = matrice_score.max()\n",
    "    dist_min = np.min(matrice_score)\n",
    "    \n",
    "    for i in range(len(matrice_score)) :\n",
    "        for j in range(i+1, len(matrice_score)) :\n",
    "            matrice_dist[i, j] = dist_max - (matrice_score[i,j] + dist_min)\n",
    "            matrice_dist[j, i] = matrice_dist[i, j]\n",
    "            \n",
    "    return matrice_dist"
   ]
  },
  {
   "cell_type": "code",
   "execution_count": 20,
   "id": "bca6b10f-3b18-49dd-8bf2-da26476718f0",
   "metadata": {},
   "outputs": [
    {
     "name": "stdout",
     "output_type": "stream",
     "text": [
      "La matrice des distances est : \n",
      " [[   0. 2829. 5744. 6124. 4479. 5331. 5502. 3769. 3458. 3982.]\n",
      " [2829.    0. 5739. 6120. 4474. 5330. 5496. 3770. 3456. 3990.]\n",
      " [5744. 5739.    0. 3528. 3975. 3433. 3448. 4793. 5292. 4540.]\n",
      " [6124. 6120. 3528.    0. 4296. 3574. 3578. 5092. 5637. 4838.]\n",
      " [4479. 4474. 3975. 4296.    0. 3692. 3837. 3651. 4045. 3491.]\n",
      " [5331. 5330. 3433. 3574. 3692.    0. 3370. 4369. 4897. 4180.]\n",
      " [5502. 5496. 3448. 3578. 3837. 3370.    0. 4562. 5046. 4285.]\n",
      " [3769. 3770. 4793. 5092. 3651. 4369. 4562.    0. 3453. 3403.]\n",
      " [3458. 3456. 5292. 5637. 4045. 4897. 5046. 3453.    0. 3621.]\n",
      " [3982. 3990. 4540. 4838. 3491. 4180. 4285. 3403. 3621.    0.]] \n",
      "\n"
     ]
    }
   ],
   "source": [
    "matrice_des_distances = matrice_distance(matrice_des_scores)\n",
    "print(\"La matrice des distances est : \\n\", matrice_des_distances, \"\\n\")"
   ]
  },
  {
   "cell_type": "code",
   "execution_count": 22,
   "id": "db274d02-a3f9-47bc-a797-a6c0e2927e95",
   "metadata": {},
   "outputs": [
    {
     "ename": "NameError",
     "evalue": "name 'linkage' is not defined",
     "output_type": "error",
     "traceback": [
      "\u001b[1;31m---------------------------------------------------------------------------\u001b[0m",
      "\u001b[1;31mNameError\u001b[0m                                 Traceback (most recent call last)",
      "Cell \u001b[1;32mIn[22], line 3\u001b[0m\n\u001b[0;32m      1\u001b[0m \u001b[38;5;66;03m# Pour affichier l'arbre : \u001b[39;00m\n\u001b[1;32m----> 3\u001b[0m dendro \u001b[38;5;241m=\u001b[39m \u001b[43mlinkage\u001b[49m(matrice_des_distances, method\u001b[38;5;241m=\u001b[39m\u001b[38;5;124m'\u001b[39m\u001b[38;5;124maverage\u001b[39m\u001b[38;5;124m'\u001b[39m)\n\u001b[0;32m      5\u001b[0m \u001b[38;5;66;03m# Plot du dendrogramme :\u001b[39;00m\n\u001b[0;32m      7\u001b[0m plt\u001b[38;5;241m.\u001b[39mfigure(figsize\u001b[38;5;241m=\u001b[39m(\u001b[38;5;241m20\u001b[39m, \u001b[38;5;241m20\u001b[39m))\n",
      "\u001b[1;31mNameError\u001b[0m: name 'linkage' is not defined"
     ]
    }
   ],
   "source": [
    "# Pour affichier l'arbre : \n",
    "dendro = linkage(matrice_des_distances, method='average')\n",
    "\n",
    "# Plot du dendrogramme :\n",
    "plt.figure(figsize=(20, 20))\n",
    "dendrogram(dendro)\n",
    "plt.title('Arbre UPGMA')\n",
    "plt.xlabel('Seq_ID')\n",
    "plt.ylabel('Distance')\n",
    "plt.show()"
   ]
  },
  {
   "cell_type": "code",
   "execution_count": 26,
   "id": "9441f06d-6ecf-424c-9178-10f4b8db4c65",
   "metadata": {},
   "outputs": [
    {
     "data": {
      "text/plain": [
       "\"\\nLa fonction ConstruireArbre permet de construire un arbre à partir d'une matrice de distances\\nIl utilise le principe de construction d'un arbre UPGMA\\n(Unweighted Pair Group Method with Arithmetic Mean) mais de manière incrémentale\\n\""
      ]
     },
     "execution_count": 26,
     "metadata": {},
     "output_type": "execute_result"
    }
   ],
   "source": [
    "'''\n",
    "La fonction ConstruireArbre permet de construire un arbre à partir d'une matrice de distances\n",
    "Il utilise le principe de construction d'un arbre UPGMA\n",
    "(Unweighted Pair Group Method with Arithmetic Mean) mais de manière incrémentale\n",
    "'''"
   ]
  },
  {
   "cell_type": "code",
   "execution_count": 27,
   "id": "617bc49d-57cb-44eb-8ed8-8f3c695ebb7b",
   "metadata": {},
   "outputs": [],
   "source": [
    "def ConstruireArbre(MatriceDistance):\n",
    "    \n",
    "    '''\n",
    "    Va construire un arbre incrémentiel grâce à la méthode UPGMA\n",
    "    \n",
    "        Parameters :\n",
    "            MatriceDistance = tableau de distances de séquences deux à deux\n",
    "        \n",
    "        Returns :\n",
    "            tree = un arbre UPGMA de nos séquences\n",
    "\n",
    "    '''\n",
    "    \n",
    "    n = len(MatriceDistance)\n",
    "    \n",
    "    # Initalisation d'une liste de clusters \n",
    "    clusters = [[i] for i in range(n)]\n",
    "    \n",
    "    distances = MatriceDistance.copy()\n",
    "    \n",
    "    while len(clusters) > 1:\n",
    "        # On cherche les deux clusters les plus proches\n",
    "        min_distance = float('inf')\n",
    "        min_indices = (0, 0)\n",
    "        for i in range(len(clusters)):\n",
    "            for j in range(i + 1, len(clusters)):\n",
    "                distance = distances[i][j]\n",
    "                if distance < min_distance:\n",
    "                    min_distance = distance\n",
    "                    min_indices = (i, j)\n",
    "        # Les coordonnées des deux clusters les plus proches sont stockés dans x et y \n",
    "        x, y = min_indices\n",
    "\n",
    "\n",
    "        # Les deux clusters les plus proches sont fusionnés en un seul cluster\n",
    "        new_cluster = clusters[x] + clusters[y]\n",
    "        clusters.append(new_cluster)\n",
    "\n",
    "        new_distances = [[0] * len(clusters) for i in range(len(clusters))]\n",
    "\n",
    "        for i in range(len(clusters)):\n",
    "            for j in range(i + 1, len(clusters)):\n",
    "                if i < len(distances) and j < len(distances[i]):\n",
    "                    # Calcul la distance entre les clusters\n",
    "                    # grâce à une moyenne arithmétique\n",
    "                    dist = (distances[x][i] + distances[y][j]) / 2\n",
    "                    new_distances[i][j] = dist\n",
    "                    new_distances[j][i] = dist\n",
    "        # On met à jour la matrice des distances\n",
    "        distances = new_distances\n",
    "        \n",
    "        # Les clusteurs les plus proches sont supprimés\n",
    "        del clusters[max(x, y)]\n",
    "        del clusters[min(x, y)]\n",
    "        \n",
    "    tree = clusters[0]\n",
    "    for i in range(len(tree)) :\n",
    "        tree[i] = tree[i]+1\n",
    "    \n",
    "    return tree\n"
   ]
  },
  {
   "cell_type": "code",
   "execution_count": 28,
   "id": "60b30da3-e4ed-47a4-b56f-173bce513eb7",
   "metadata": {},
   "outputs": [
    {
     "name": "stdout",
     "output_type": "stream",
     "text": [
      "L'arbre fréquentiel de nos séquences est : \n",
      "  [5, 6, 7, 8, 9, 10, 1, 2, 3, 4] \n",
      "\n"
     ]
    }
   ],
   "source": [
    "arbre_UPGMA = ConstruireArbre(matrice_des_distances)\n",
    "print(\"L'arbre fréquentiel de nos séquences est : \\n \", arbre_UPGMA, \"\\n\")"
   ]
  },
  {
   "cell_type": "code",
   "execution_count": 30,
   "id": "e1e69723-df96-4172-ad4d-c38d41d45803",
   "metadata": {},
   "outputs": [
    {
     "data": {
      "text/plain": [
       "\"\\nLa fonction alignement_needleman_wunsch() permet de réaliser l'alignement entre deux séquences à l'aide \\nde l'algorithme Needleman & Wunsch\\n\""
      ]
     },
     "execution_count": 30,
     "metadata": {},
     "output_type": "execute_result"
    }
   ],
   "source": [
    "'''\n",
    "La fonction alignement_needleman_wunsch() permet de réaliser l'alignement entre deux séquences à l'aide \n",
    "de l'algorithme Needleman & Wunsch\n",
    "'''"
   ]
  },
  {
   "cell_type": "code",
   "execution_count": 31,
   "id": "d22cf304-7bc5-4580-a11f-32413674b469",
   "metadata": {},
   "outputs": [],
   "source": [
    "def alignement_needleman_wunsch(sequences, arbre, blosum62, gap):\n",
    "    '''\n",
    "    Va nous permettre de visualiser les alignements entre deux séquences\n",
    "    \n",
    "    Parameters:\n",
    "        sequence: qui sont des séquences issues des fichiers fasta\n",
    "        arbre : arbre fréquentiel des séquences\n",
    "        blosum62: dictionnaire de la matrice BLOSUM62\n",
    "        gap: valeur de pénalité, un entier, ici il vaut -5\n",
    "        \n",
    "    Returns:\n",
    "        Va nous retourner les alignements de séquences\n",
    "    '''\n",
    "    \n",
    "    # On extrait les deux séquences à alignées\n",
    "    seq1 = fasta[arbre_UPGMA[0]]\n",
    "    seq2 = fasta[arbre_UPGMA[1]]         \n",
    "\n",
    "    m = len(seq1)\n",
    "    n = len(seq2)\n",
    "    \n",
    "    score_alignement = [[0] * (n + 1) for i in range(m + 1)]\n",
    "\n",
    "    for i in range(m + 1):\n",
    "        score_alignement[i][0] = gap * i\n",
    "    for j in range(n + 1):\n",
    "        score_alignement[0][j] = gap * j\n",
    "\n",
    "    for i in range(1, m + 1):\n",
    "        for j in range(1, n + 1):\n",
    "            score_match = score_alignement[i - 1][j - 1] + blosum62[seq1[i - 1]][seq2[j - 1]]\n",
    "            score_suppr = score_alignement[i - 1][j] + gap\n",
    "            score_inser = score_alignement[i][j - 1] + gap\n",
    "            score_alignement[i][j] = max(score_match, score_suppr, score_inser)\n",
    "            \n",
    "            \n",
    "    # Tracement des alignements\n",
    "    alignment_a, alignment_b = \"\", \"\"\n",
    "    i, j = m, n\n",
    "    \n",
    "    while i > 0 and j > 0:\n",
    "        #On assigne le score de score_alignement suivant la case courante (là où on se situe)\n",
    "        score_case = score_alignement[i][j]\n",
    "        score_diag = score_alignement[i - 1][j - 1]\n",
    "        score_up = score_alignement[i][j - 1]\n",
    "        score_left = score_alignement[i - 1][j]\n",
    "        \n",
    "        ## Ces conditions servent à verifier quel est le score maximal de ces cases ##\n",
    "        \n",
    "        # Cas du match de seq1 et seq2 : les deux caractères sont ajoutés dans les\n",
    "        # deux alignements et on recule en diagonale\n",
    "        if score_case == score_diag + blosum62[seq1[i - 1]][seq2[j - 1]]:\n",
    "            alignment_a += seq1[i - 1]\n",
    "            alignment_b += seq2[j - 1]\n",
    "            i -= 1\n",
    "            j -= 1\n",
    "            \n",
    "        # Cas de l'insertion/gap dans seq1 :\n",
    "        # on ajoute le caractère de seq2 dans alignment_b\n",
    "        # et on insert un gap à alignment_a\n",
    "        # On passe à la case du haut\n",
    "        elif score_case == score_up + gap:\n",
    "            alignment_a += '-'\n",
    "            alignment_b += seq2[j - 1]\n",
    "            j -= 1\n",
    "\n",
    "        # Cas de l'insertion/gap dans seq2 :\n",
    "        # on ajoute le caractère de seq1 dans alignment_a\n",
    "        # et on insert un gap à alignment_b\n",
    "        # On passe à la case de gauche\n",
    "        \n",
    "        elif score_case == score_left + gap:\n",
    "            alignment_a += seq1[i - 1]\n",
    "            alignment_b += '-'\n",
    "            i -= 1\n",
    "            \n",
    "    # On complète l'alignement jusqu'à ce que i et j atteignent\n",
    "    # tous les deux 0\n",
    "    \n",
    "    while i > 0:\n",
    "        alignment_a += seq1[i - 1]\n",
    "        alignment_b += '-'\n",
    "        i -= 1\n",
    "    while j > 0:\n",
    "        alignment_a += '-'\n",
    "        alignment_b += seq2[j - 1]\n",
    "        j -= 1\n",
    "\n",
    "    # Inverse l'ordre pour avoir les bonnes séquences\n",
    "    alignment_a = alignment_a[::-1]\n",
    "    alignment_b = alignment_b[::-1]\n",
    "\n",
    "    return alignment_a, alignment_b"
   ]
  },
  {
   "cell_type": "code",
   "execution_count": 32,
   "id": "c8ed8f73-3cea-40bd-ba84-cdb3b902b9a9",
   "metadata": {},
   "outputs": [
    {
     "name": "stdout",
     "output_type": "stream",
     "text": [
      "Alignement des séquences : \n",
      "  ('MS--PFLYLVLL---VL--GL-----H-ATI-H-CAS-PE----GKVTACHSS--Q--PNATLYKM-SSINADFAFNLYRRFTVETPDKNI--FFSPVSISAALVML-SFG--A-CCSTQ-TEIVETLGFNLTDTP-MVEIQHGFQHLICSLNFPKKELELQIGNALF-IG-KH--L-KP--L--A-KFLNDVKT--LYETE-VFS-T---D-F-SN--ISAAKQEIN-SHVE-M-Q-T-KGKVVGLIQDLKPNT-IM-V--LVNYI-HFKAQWANPFDPSK-TED-S--SSFLID-K-T-TT-VQV----PMMH--Q-M-E-QYYHL-VDM-ELNCTVLQ-MDYSKN-ALA--LFV---LPKEGQME-SVEAAMSSKTLKKWNRLLQK----G-----W-VDL--F---V--PKFSISATYDLGATLLKMGIQHA----YSENA-DFS--GLTE--DN-G-L--K---L--S-------N--AA--HK-AVLH----IGEKGTE--AAA-V---PEVE-LS-DQ---P-E---NTF-LH-PI--I-----QIDRSFML--LIL-E-RST----RSIL-----FLG---KVV---N------P-----T-E--A', 'MKWVTFLLLLFISGSAFSRGVFRREAHKSEIAHRFKDLGEQHFKGLVLIAFSQYLQKCPYEEHIKLVQEV-TDFAKTCVADENAENCDKSIHTLFGD-KLCAIPKLRDNYGELADCCAKQEPERNECFLQHKDDNPNLPPFQRPEAEAMCT-SFQENPTSF-LGHYLHEVARRHPYFYAPELLYYAEKY-NEVLTQCCTESDKAACLTPKLDAVKEKALVAAVRQRMKCSSMQRFGERAFKAWAVARMSQRFPNAEFAEITKLATDVTKINKECCHG-DLLECADDRAELAKYMCENQATISSKLQACCDKPVLQKSQCLAEIEHDNIPADLPSIAADFVEDKEVCKNYAEAKDVFLGTFLYEYSRRHPDYSVSLLLRLAKKYEATLEKCCAEGDPPACYGTVLAEFQPLVEEPKNLVKTNCELYEKLGEYGFQNAVLVRYTQKAPQVSTPTLVEAARNLGRVGTKCCTLPEAQRLPCVEDYLSAILNRLCVLHEKTPVSEKVTKCCSGSLVERRPCFSALTVDETYVPKEFKAETFTFHSDICTLPDKEKQIKKQTALAELVKHKPKATEDQLKTVMGDFAQFVDKCCKAADKDNCFATEGPNLVARSKEALA') \n",
      "\n"
     ]
    }
   ],
   "source": [
    "alignement_séquences = alignement_needleman_wunsch(fasta, arbre_UPGMA, blosum62, gap)\n",
    "print(\"Alignement des séquences : \\n \", alignement_séquences, \"\\n\")"
   ]
  },
  {
   "cell_type": "code",
   "execution_count": 33,
   "id": "6d0a7441-a2ec-4190-a34e-517971e3308d",
   "metadata": {},
   "outputs": [
    {
     "name": "stdout",
     "output_type": "stream",
     "text": [
      "Le temps d'exécution du code pour 10 séquences de 400 acides aminés en moyenne est : 1.28e+03 secondes \n",
      "\n"
     ]
    }
   ],
   "source": [
    "tps2 = time.time()\n",
    "print(f\"Le temps d'exécution du code pour 10 séquences de 400 acides aminés en moyenne est : {tps2 - tps1:.3} secondes \\n\")"
   ]
  },
  {
   "cell_type": "code",
   "execution_count": null,
   "id": "b339baf6-14e8-438b-8da3-f9e6eba65b8b",
   "metadata": {},
   "outputs": [],
   "source": []
  }
 ],
 "metadata": {
  "kernelspec": {
   "display_name": "Python 3 (ipykernel)",
   "language": "python",
   "name": "python3"
  },
  "language_info": {
   "codemirror_mode": {
    "name": "ipython",
    "version": 3
   },
   "file_extension": ".py",
   "mimetype": "text/x-python",
   "name": "python",
   "nbconvert_exporter": "python",
   "pygments_lexer": "ipython3",
   "version": "3.11.4"
  }
 },
 "nbformat": 4,
 "nbformat_minor": 5
}
